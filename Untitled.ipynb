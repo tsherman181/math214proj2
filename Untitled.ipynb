{
 "cells": [
  {
   "cell_type": "code",
   "execution_count": 1,
   "metadata": {},
   "outputs": [],
   "source": [
    "import numpy as np"
   ]
  },
  {
   "cell_type": "code",
   "execution_count": 2,
   "metadata": {},
   "outputs": [],
   "source": [
    "a = [1, 0, 0, 0, 0,\n",
    "     0, 1, 0, 0, 0,\n",
    "     0, 0, 1, 0, 0, \n",
    "     0, 0, 0, 1, 0, \n",
    "     0, 0, 0, 0, 1,\n",
    "     1, 1, 0, 0, 1, \n",
    "     1, 1, 1, 0, 0, \n",
    "     1, 0, 1, 1, 0, \n",
    "     1, 0, 0, 1, 1 \n",
    "    ]\n",
    "b=np.array(a)\n",
    "b=b.reshape(9, 5)"
   ]
  },
  {
   "cell_type": "code",
   "execution_count": 3,
   "metadata": {},
   "outputs": [
    {
     "data": {
      "text/plain": [
       "array([0, 0, 0, 0, 1, 1, 0, 0, 1])"
      ]
     },
     "execution_count": 3,
     "metadata": {},
     "output_type": "execute_result"
    }
   ],
   "source": [
    "a2=[0, 0, 0, 0, 1]\n",
    "b2=np.array(a2)\n",
    "b2.reshape(5,1)\n",
    "b.dot(b2)"
   ]
  },
  {
   "cell_type": "code",
   "execution_count": 8,
   "metadata": {},
   "outputs": [],
   "source": [
    "listOfBin = [[0,0,0,0,0], [0,0,0,0,1], [0,0,0,1,0], [0,0,0,1,1], [0,0,1,0,0], [0,0,1,0,1], [0,0,1,1,0], [0,0,1,1,1], \n",
    "             [0,1,0,0,0], [0,1,0,0,1], [0,1,0,1,0], [0,1,0,1,1], [0,1,1,0,0], [0,1,1,0,1], [0,1,1,1,0], [0,1,1,1,1],\n",
    "             [1,0,0,0,0], [1,0,0,0,1], [1,0,0,1,0], [1,0,0,1,1], [1,0,1,0,0], [1,0,1,0,1], [1,0,1,1,0], [1,0,1,1,1],\n",
    "             [1,1,0,0,0], [1,1,0,0,1], [1,0,0,1,0] ]"
   ]
  },
  {
   "cell_type": "code",
   "execution_count": 5,
   "metadata": {},
   "outputs": [
    {
     "name": "stdout",
     "output_type": "stream",
     "text": [
      "[array([[0, 0, 0, 0, 0, 0, 0, 0, 0]]), array([[0, 0, 0, 0, 1, 1, 0, 0, 1]]), array([[0, 0, 0, 1, 0, 0, 0, 1, 1]]), array([[0, 0, 0, 1, 1, 1, 0, 1, 2]]), array([[0, 0, 1, 0, 0, 0, 1, 1, 0]]), array([[0, 0, 1, 0, 1, 1, 1, 1, 1]]), array([[0, 0, 1, 1, 0, 0, 1, 2, 1]]), array([[0, 0, 1, 1, 1, 1, 1, 2, 2]]), array([[0, 1, 0, 0, 0, 1, 1, 0, 0]]), array([[0, 1, 0, 0, 1, 2, 1, 0, 1]]), array([[0, 1, 0, 1, 0, 1, 1, 1, 1]]), array([[0, 1, 0, 1, 1, 2, 1, 1, 2]]), array([[0, 1, 1, 0, 0, 1, 2, 1, 0]]), array([[0, 1, 1, 0, 1, 2, 2, 1, 1]]), array([[0, 1, 1, 1, 0, 1, 2, 2, 1]]), array([[0, 1, 1, 1, 1, 2, 2, 2, 2]]), array([[1, 0, 0, 0, 0, 1, 1, 1, 1]]), array([[1, 0, 0, 0, 1, 2, 1, 1, 2]]), array([[1, 0, 0, 1, 0, 1, 1, 2, 2]]), array([[1, 0, 0, 1, 1, 2, 1, 2, 3]]), array([[1, 0, 1, 0, 0, 1, 2, 2, 1]]), array([[1, 0, 1, 0, 1, 2, 2, 2, 2]]), array([[1, 0, 1, 1, 0, 1, 2, 3, 2]]), array([[1, 0, 1, 1, 1, 2, 2, 3, 3]]), array([[1, 1, 0, 0, 0, 2, 2, 1, 1]]), array([[1, 1, 0, 0, 1, 3, 2, 1, 2]]), array([[1, 0, 0, 1, 0, 1, 1, 2, 2]])]\n"
     ]
    }
   ],
   "source": [
    "letterMatList =[]\n",
    "for x in listOfBin:\n",
    "    y=np.array(x)\n",
    "    y=y.reshape(5,1)\n",
    "    letterMatList.append(b.dot(y).reshape(1,9))\n",
    "print(letterMatList)"
   ]
  },
  {
   "cell_type": "code",
   "execution_count": 6,
   "metadata": {},
   "outputs": [
    {
     "name": "stdout",
     "output_type": "stream",
     "text": [
      "1234\n"
     ]
    }
   ],
   "source": [
    "listy = [1,2,3,4]\n",
    "str1 = ''.join(str(e) for e in listy)\n",
    "print(str1)"
   ]
  },
  {
   "cell_type": "code",
   "execution_count": 7,
   "metadata": {},
   "outputs": [
    {
     "name": "stdout",
     "output_type": "stream",
     "text": [
      "['[0 0 0 0 0 0 0 0 0]', '[0 0 0 0 1 1 0 0 1]', '[0 0 0 1 0 0 0 1 1]', '[0 0 0 1 1 1 0 1 2]', '[0 0 1 0 0 0 1 1 0]', '[0 0 1 0 1 1 1 1 1]', '[0 0 1 1 0 0 1 2 1]', '[0 0 1 1 1 1 1 2 2]', '[0 1 0 0 0 1 1 0 0]', '[0 1 0 0 1 2 1 0 1]', '[0 1 0 1 0 1 1 1 1]', '[0 1 0 1 1 2 1 1 2]', '[0 1 1 0 0 1 2 1 0]', '[0 1 1 0 1 2 2 1 1]', '[0 1 1 1 0 1 2 2 1]', '[0 1 1 1 1 2 2 2 2]', '[1 0 0 0 0 1 1 1 1]', '[1 0 0 0 1 2 1 1 2]', '[1 0 0 1 0 1 1 2 2]', '[1 0 0 1 1 2 1 2 3]', '[1 0 1 0 0 1 2 2 1]', '[1 0 1 0 1 2 2 2 2]', '[1 0 1 1 0 1 2 3 2]', '[1 0 1 1 1 2 2 3 3]', '[1 1 0 0 0 2 2 1 1]', '[1 1 0 0 1 3 2 1 2]', '[1 0 0 1 0 1 1 2 2]']\n"
     ]
    }
   ],
   "source": [
    "stringList=[]\n",
    "for x in letterMatList:\n",
    "    str1 = ''.join(str(e) for e in x)\n",
    "    stringList.append(str1)\n",
    "print(stringList)\n"
   ]
  },
  {
   "cell_type": "code",
   "execution_count": null,
   "metadata": {},
   "outputs": [],
   "source": []
  }
 ],
 "metadata": {
  "kernelspec": {
   "display_name": "Python 3",
   "language": "python",
   "name": "python3"
  },
  "language_info": {
   "codemirror_mode": {
    "name": "ipython",
    "version": 3
   },
   "file_extension": ".py",
   "mimetype": "text/x-python",
   "name": "python",
   "nbconvert_exporter": "python",
   "pygments_lexer": "ipython3",
   "version": "3.8.3"
  }
 },
 "nbformat": 4,
 "nbformat_minor": 4
}
